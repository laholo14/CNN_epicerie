{
 "cells": [
  {
   "cell_type": "code",
   "execution_count": 3,
   "metadata": {},
   "outputs": [],
   "source": [
    "import tensorflow as tf\n",
    "import numpy as np \n",
    "from sklearn.model_selection import train_test_split\n",
    "import pickle\n",
    "import matplotlib.pyplot as plt"
   ]
  },
  {
   "cell_type": "code",
   "execution_count": 4,
   "metadata": {},
   "outputs": [
    {
     "data": {
      "text/plain": [
       "(34443, 160, 160, 3)"
      ]
     },
     "execution_count": 4,
     "metadata": {},
     "output_type": "execute_result"
    }
   ],
   "source": [
    "#chargement des datasest\n",
    "data_f = open(\"data/tab_image.pickle\",\"rb\")\n",
    "data_img = pickle.load(data_f)\n",
    "data_img = np.array(data_img).reshape(-1,160,160,3)\n",
    "\n",
    "data_img.shape #mijery isany col sy ligne sy canneaux"
   ]
  },
  {
   "cell_type": "code",
   "execution_count": 5,
   "metadata": {},
   "outputs": [
    {
     "data": {
      "text/plain": [
       "(34443,)"
      ]
     },
     "execution_count": 5,
     "metadata": {},
     "output_type": "execute_result"
    }
   ],
   "source": [
    "data_l = open(\"data/tab_labels.pickle\",\"rb\")\n",
    "data_labels = pickle.load(data_l)\n",
    "data_labels = np.array(data_labels)\n",
    "data_labels.shape"
   ]
  },
  {
   "cell_type": "code",
   "execution_count": 6,
   "metadata": {},
   "outputs": [],
   "source": [
    "#Diviser les tableaux en sous-ensembles de train et de test aléatoires\n",
    "#parametre(array,array,test_sie float voir web,startify=appetaka le labels controlle le shuffle=>melange des donnes avant de le diviser)\n",
    "(X_train,X_test,Y_train,Y_test) = train_test_split(data_img,data_labels,test_size=0.30, stratify=data_labels, random_state=42)"
   ]
  },
  {
   "cell_type": "code",
   "execution_count": 7,
   "metadata": {},
   "outputs": [],
   "source": [
    "# (X_train,X_test,Y_train,Y_test) = train_test_split(data_img,data_labels,test_size=0.30, stratify=data_labels, random_state=42)\n",
    "(X_train,X_val, Y_train, Y_val) = train_test_split(X_train,Y_train,test_size=0.10, random_state=1)"
   ]
  },
  {
   "cell_type": "code",
   "execution_count": 8,
   "metadata": {},
   "outputs": [
    {
     "data": {
      "text/plain": [
       "(21699, 160, 160, 3)"
      ]
     },
     "execution_count": 8,
     "metadata": {},
     "output_type": "execute_result"
    }
   ],
   "source": [
    "X_train.shape\n"
   ]
  },
  {
   "cell_type": "code",
   "execution_count": 9,
   "metadata": {},
   "outputs": [
    {
     "data": {
      "text/plain": [
       "(160, 160, 3)"
      ]
     },
     "execution_count": 9,
     "metadata": {},
     "output_type": "execute_result"
    }
   ],
   "source": [
    "X_train.shape[1:] #manala ny isany voloa\n"
   ]
  },
  {
   "cell_type": "code",
   "execution_count": 10,
   "metadata": {},
   "outputs": [],
   "source": [
    "\n",
    "\n",
    "\n",
    "#filters: Entier, la dimensionnalité de l'espace de sortie (c'est-à-dire le nombre de filtres de sortie dans la convolution)\n",
    "#kernel_size: Un entier ou tuple/liste de 2 entiers, spécifiant la hauteur et la largeur de la fenêtre de convolution 2D. Peut être un entier unique pour spécifier la même valeur pour toutes les dimensions spatiales\n",
    "#padding: un de \"valid\"ou \"same\"(insensible à la casse). \"valid\"signifie pas de rembourrage. \"same\"entraîne un remplissage avec des zéros uniformément à gauche/droite ou haut/bas de l'entrée de sorte que la sortie a la même dimension hauteur/largeur que l'entrée.\n",
    "#activation: Fonction d'activation à utiliser. Si vous ne spécifiez rien, aucune activation n'est appliquée\n",
    "#normaliseza ilay mivoaka farany entre -1 et 1 & augmente l'accuracy du modele   applique une transformation qui maintient la sortie moyenne proche de 0 et l'écart type de sortie proche de 1\n",
    "#normaliseza ilay mivoaka farany entre -1 et 1 & augmente l'accuracy du modele   applique une transformation qui maintient la sortie moyenne proche de 0 et l'écart type de sortie proche de 1\n",
    "\n",
    "model = tf.keras.Sequential()\n",
    "\n",
    "model.add(tf.keras.layers.Conv2D(filters=32, kernel_size=(3, 3), padding='same', activation='relu', input_shape=(160,160,3) ,name=\"entree\"))\n",
    "model.add(tf.keras.layers.BatchNormalization()) \n",
    "\n",
    "model.add(tf.keras.layers.Conv2D(64, kernel_size=(3, 3), padding='same', activation='relu'))\n",
    "model.add(tf.keras.layers.BatchNormalization()) \n",
    "model.add(tf.keras.layers.MaxPooling2D(pool_size=(2, 2)))\n",
    "\n",
    "\n",
    "model.add(tf.keras.layers.Conv2D(128, kernel_size=(3, 3), activation='relu'))\n",
    "model.add(tf.keras.layers.BatchNormalization())\n",
    "model.add(tf.keras.layers.MaxPooling2D(pool_size=(2, 2)))\n",
    "\n",
    "\n",
    "model.add(tf.keras.layers.Conv2D(256, kernel_size=(3, 3), activation='relu'))\n",
    "model.add(tf.keras.layers.BatchNormalization())\n",
    "model.add(tf.keras.layers.MaxPooling2D(pool_size=(2, 2)))\n",
    "\n",
    "\n",
    "model.add(tf.keras.layers.Flatten())\n",
    "\n",
    "model.add(tf.keras.layers.Dense(2048, activation='relu'))\n",
    "model.add(tf.keras.layers.Dense(2048, activation='relu'))\n",
    "model.add(tf.keras.layers.Dropout(0.2))\n",
    "\n",
    "model.add(tf.keras.layers.Dense(4, activation='softmax',name=\"sortie\"))"
   ]
  },
  {
   "cell_type": "code",
   "execution_count": 11,
   "metadata": {},
   "outputs": [],
   "source": [
    "model.compile(optimizer=tf.keras.optimizers.Adam(learning_rate=1e-4), #enarana\n",
    "              loss=tf.keras.losses.SparseCategoricalCrossentropy(),\n",
    "              metrics=['accuracy'])\n"
   ]
  },
  {
   "cell_type": "code",
   "execution_count": 13,
   "metadata": {},
   "outputs": [
    {
     "name": "stdout",
     "output_type": "stream",
     "text": [
      "Model: \"sequential\"\n",
      "_________________________________________________________________\n",
      "Layer (type)                 Output Shape              Param #   \n",
      "=================================================================\n",
      "entree (Conv2D)              (None, 160, 160, 32)      896       \n",
      "_________________________________________________________________\n",
      "batch_normalization (BatchNo (None, 160, 160, 32)      128       \n",
      "_________________________________________________________________\n",
      "conv2d (Conv2D)              (None, 160, 160, 64)      18496     \n",
      "_________________________________________________________________\n",
      "batch_normalization_1 (Batch (None, 160, 160, 64)      256       \n",
      "_________________________________________________________________\n",
      "max_pooling2d (MaxPooling2D) (None, 80, 80, 64)        0         \n",
      "_________________________________________________________________\n",
      "conv2d_1 (Conv2D)            (None, 78, 78, 128)       73856     \n",
      "_________________________________________________________________\n",
      "batch_normalization_2 (Batch (None, 78, 78, 128)       512       \n",
      "_________________________________________________________________\n",
      "max_pooling2d_1 (MaxPooling2 (None, 39, 39, 128)       0         \n",
      "_________________________________________________________________\n",
      "conv2d_2 (Conv2D)            (None, 37, 37, 256)       295168    \n",
      "_________________________________________________________________\n",
      "batch_normalization_3 (Batch (None, 37, 37, 256)       1024      \n",
      "_________________________________________________________________\n",
      "max_pooling2d_2 (MaxPooling2 (None, 18, 18, 256)       0         \n",
      "_________________________________________________________________\n",
      "flatten (Flatten)            (None, 82944)             0         \n",
      "_________________________________________________________________\n",
      "dense (Dense)                (None, 2048)              169871360 \n",
      "_________________________________________________________________\n",
      "dense_1 (Dense)              (None, 2048)              4196352   \n",
      "_________________________________________________________________\n",
      "dropout (Dropout)            (None, 2048)              0         \n",
      "_________________________________________________________________\n",
      "sortie (Dense)               (None, 4)                 8196      \n",
      "=================================================================\n",
      "Total params: 174,466,244\n",
      "Trainable params: 174,465,284\n",
      "Non-trainable params: 960\n",
      "_________________________________________________________________\n"
     ]
    }
   ],
   "source": [
    "model.summary()"
   ]
  },
  {
   "cell_type": "code",
   "execution_count": 14,
   "metadata": {},
   "outputs": [
    {
     "name": "stdout",
     "output_type": "stream",
     "text": [
      "Epoch 1/10\n",
      "340/340 [==============================] - 3869s 11s/step - loss: 0.0657 - accuracy: 0.9908 - val_loss: 7.4807e-04 - val_accuracy: 0.9996\n",
      "Epoch 2/10\n",
      "340/340 [==============================] - 3516s 10s/step - loss: 1.0508e-05 - accuracy: 1.0000 - val_loss: 1.1087e-05 - val_accuracy: 1.0000\n",
      "Epoch 3/10\n",
      "340/340 [==============================] - 3389s 10s/step - loss: 0.0309 - accuracy: 0.9983 - val_loss: 0.4533 - val_accuracy: 0.9863\n",
      "Epoch 4/10\n",
      "340/340 [==============================] - 3396s 10s/step - loss: 0.0419 - accuracy: 0.9985 - val_loss: 0.0000e+00 - val_accuracy: 1.0000\n",
      "Epoch 5/10\n",
      "340/340 [==============================] - 3400s 10s/step - loss: 1.0558e-05 - accuracy: 1.0000 - val_loss: 0.0000e+00 - val_accuracy: 1.0000\n",
      "Epoch 6/10\n",
      "340/340 [==============================] - 3407s 10s/step - loss: 0.0045 - accuracy: 1.0000 - val_loss: 0.0000e+00 - val_accuracy: 1.0000\n",
      "Epoch 7/10\n",
      "340/340 [==============================] - 3419s 10s/step - loss: 0.1274 - accuracy: 0.9982 - val_loss: 0.0000e+00 - val_accuracy: 1.0000\n",
      "Epoch 8/10\n",
      "340/340 [==============================] - 3420s 10s/step - loss: 0.0105 - accuracy: 0.9998 - val_loss: 0.0000e+00 - val_accuracy: 1.0000\n",
      "Epoch 9/10\n",
      "340/340 [==============================] - 3431s 10s/step - loss: 0.0266 - accuracy: 0.9995 - val_loss: 0.2504 - val_accuracy: 0.9988\n",
      "Epoch 10/10\n",
      "340/340 [==============================] - 3423s 10s/step - loss: 0.0636 - accuracy: 0.9991 - val_loss: 0.0424 - val_accuracy: 0.9988\n"
     ]
    }
   ],
   "source": [
    "entrainement = model.fit(X_train, Y_train,validation_data=(X_val, Y_val), batch_size=64, epochs=10)"
   ]
  },
  {
   "cell_type": "code",
   "execution_count": 20,
   "metadata": {},
   "outputs": [
    {
     "data": {
      "image/png": "[encoded data removed]",
      "text/plain": [
       "<Figure size 432x288 with 1 Axes>"
      ]
     },
     "metadata": {
      "needs_background": "light"
     },
     "output_type": "display_data"
    }
   ],
   "source": [
    "plt.plot(entrainement.history['accuracy'], label='precision') \n",
    "plt.plot(entrainement.history['loss'], label = 'erreur')\n",
    "plt.xlabel('epoch') \n",
    "plt.ylabel('precision')\n",
    "plt.ylim([0, 1])\n",
    "plt.legend(loc='lower right')\n",
    "plt.savefig(\"graphe/graph.png\")\n",
    "plt.show()\n",
    "\n",
    "\n"
   ]
  },
  {
   "cell_type": "code",
   "execution_count": 21,
   "metadata": {},
   "outputs": [
    {
     "data": {
      "image/png": "[encoded data removed]",
      "text/plain": [
       "<Figure size 432x288 with 1 Axes>"
      ]
     },
     "metadata": {
      "needs_background": "light"
     },
     "output_type": "display_data"
    }
   ],
   "source": [
    "plt.plot(entrainement.history['val_accuracy'], label='vadlidation precision') \n",
    "plt.plot(entrainement.history['val_loss'], label = 'validation erreur')\n",
    "plt.xlabel('epoch') \n",
    "plt.ylabel('precision')\n",
    "plt.ylim([0, 1])\n",
    "plt.xlim([0, 2])\n",
    "plt.legend(loc='lower right')\n",
    "plt.savefig(\"graphe/graphValidation.png\")\n",
    "plt.show()\n",
    "\n"
   ]
  },
  {
   "cell_type": "code",
   "execution_count": 23,
   "metadata": {},
   "outputs": [],
   "source": [
    "\n",
    "model.save(\"model/epicerie.h5\", save_format=\"h5\")"
   ]
  }
 ],
 "metadata": {
  "interpreter": {
   "hash": "84a97ac0bc7a3c8301aa5da449335d37aafd1527d340ed23405cda7eae7b96cd"
  },
  "kernelspec": {
   "display_name": "Python 3.8.11 64-bit ('memoire': conda)",
   "name": "python3"
  },
  "language_info": {
   "codemirror_mode": {
    "name": "ipython",
    "version": 3
   },
   "file_extension": ".py",
   "mimetype": "text/x-python",
   "name": "python",
   "nbconvert_exporter": "python",
   "pygments_lexer": "ipython3",
   "version": "3.8.12"
  },
  "orig_nbformat": 4
 },
 "nbformat": 4,
 "nbformat_minor": 2
}
