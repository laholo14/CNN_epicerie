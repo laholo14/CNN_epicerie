{
 "cells": [
  {
   "cell_type": "code",
   "execution_count": 1,
   "metadata": {},
   "outputs": [],
   "source": [
    "import numpy as np \n",
    "from tqdm import tqdm\n",
    "import cv2\n",
    "import pickle"
   ]
  },
  {
   "cell_type": "code",
   "execution_count": 2,
   "metadata": {},
   "outputs": [],
   "source": [
    "PRODUIT = ['Gouty','Le_Fruit','Siligaoma','Tic_Tac']\n",
    "tab_data = [] #tableau itazona ny image tab sy ny label any"
   ]
  },
  {
   "cell_type": "code",
   "execution_count": 3,
   "metadata": {},
   "outputs": [
    {
     "name": "stderr",
     "output_type": "stream",
     "text": [
      "100%|██████████| 11115/11115 [02:38<00:00, 69.96it/s]\n",
      "100%|██████████| 7582/7582 [00:25<00:00, 291.93it/s]\n",
      "100%|██████████| 8571/8571 [00:48<00:00, 177.18it/s]\n",
      "100%|██████████| 7175/7175 [00:24<00:00, 290.67it/s]\n"
     ]
    }
   ],
   "source": [
    "#parcours anle tuple CLASSE\n",
    "for classe_item in PRODUIT:\n",
    "    chemin_classe = os.path.join(\"image\",classe_item)\n",
    "    num_classe = PRODUIT.index(classe_item)\n",
    "\n",
    "    #parcours anle image mihitsy\n",
    "    #tqdm manisy barre chargement kely   \n",
    "    for chemin_item in tqdm(os.listdir(chemin_classe)):\n",
    "            #atao otran lasa matrice le sary\n",
    "            mat_image = cv2.imread(os.path.join(chemin_classe,chemin_item))\n",
    "            #redimensionner anle image \n",
    "            taille_resize = cv2.resize(mat_image, (160, 160))\n",
    "\n",
    "            tab_data.append([taille_resize, num_classe])\n",
    "\n"
   ]
  },
  {
   "cell_type": "code",
   "execution_count": 4,
   "metadata": {},
   "outputs": [],
   "source": [
    "tab_image = []\n",
    "tab_labels = []\n",
    "for i,j in tab_data:                     \n",
    "    tab_image.append(i)\n",
    "    tab_labels.append(j)"
   ]
  },
  {
   "cell_type": "code",
   "execution_count": 13,
   "metadata": {},
   "outputs": [],
   "source": [
    "save_f = open(\"data/tab_image.pickle\",\"wb\")\n",
    "pickle.dump(tab_image, save_f)\n",
    "save_f.close()\n",
    "\n",
    "save_l = open(\"data/tab_labels.pickle\",\"wb\")\n",
    "pickle.dump(tab_labels, save_l)\n",
    "save_l.close()\n"
   ]
  }
 ],
 "metadata": {
  "interpreter": {
   "hash": "84a97ac0bc7a3c8301aa5da449335d37aafd1527d340ed23405cda7eae7b96cd"
  },
  "kernelspec": {
   "display_name": "Python 3.8.11 64-bit ('memoire': conda)",
   "name": "python3"
  },
  "language_info": {
   "codemirror_mode": {
    "name": "ipython",
    "version": 3
   },
   "file_extension": ".py",
   "mimetype": "text/x-python",
   "name": "python",
   "nbconvert_exporter": "python",
   "pygments_lexer": "ipython3",
   "version": "3.8.11"
  },
  "orig_nbformat": 4
 },
 "nbformat": 4,
 "nbformat_minor": 2
}
